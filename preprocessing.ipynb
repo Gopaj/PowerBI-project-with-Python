{
 "cells": [
  {
   "cell_type": "code",
   "execution_count": 1,
   "metadata": {},
   "outputs": [],
   "source": [
    "import pandas as pd\n",
    "import numpy as np\n",
    "import base64\n",
    "import os\n",
    "from PIL import Image\n",
    "from io import BytesIO\n",
    "import ast\n",
    "\n",
    "pd.set_option('display.max_columns', None)\n",
    "\n",
    "def img_to_base64(path):\n",
    "    img = Image.open(path).convert('RGB')\n",
    "    h,w = img.size\n",
    "    img.thumbnail((h,w), Image.ANTIALIAS)\n",
    "    im_file = BytesIO()\n",
    "    img.save(im_file, format=\"JPEG\")\n",
    "    im_bytes = im_file.getvalue()  # im_bytes: image in binary format.\n",
    "    im_b64 = base64.b64encode(im_bytes)\n",
    "    return im_b64"
   ]
  },
  {
   "cell_type": "markdown",
   "metadata": {},
   "source": [
    "## Images to base64"
   ]
  },
  {
   "cell_type": "code",
   "execution_count": 2,
   "metadata": {},
   "outputs": [
    {
     "name": "stderr",
     "output_type": "stream",
     "text": [
      "C:\\Users\\Jacob\\Anaconda3\\lib\\site-packages\\PIL\\Image.py:962: UserWarning: Palette images with Transparency expressed in bytes should be converted to RGBA images\n",
      "  warnings.warn(\n"
     ]
    }
   ],
   "source": [
    "df_img1 = pd.DataFrame(os.listdir('images'), columns=['images'])\n",
    "df_img1['base64'] = df_img1.images.apply(lambda x: img_to_base64('images/'+x))\n",
    "df_img1['name'] = df_img1.images.str[:-4].str.lower()\n",
    "df_img2 = df_img1[df_img1['name'].str.contains('-')].assign(name = df_img1.name.str.replace('-',' '))\n",
    "df_img_final = pd.concat([df_img1, df_img2]).drop('images',1)"
   ]
  },
  {
   "cell_type": "code",
   "execution_count": 127,
   "metadata": {},
   "outputs": [],
   "source": [
    "df_img_final_dict = dict(df_img_final[['name', 'base64']].values)"
   ]
  },
  {
   "cell_type": "markdown",
   "metadata": {},
   "source": [
    "## Create pokemon dataset w. images"
   ]
  },
  {
   "cell_type": "code",
   "execution_count": 128,
   "metadata": {},
   "outputs": [],
   "source": [
    "df = pd.read_csv('pokemon.csv')\n",
    "df['base64'] = df.name.str.lower().map(df_img_final_dict)\n",
    "df.drop('abilities',1).to_csv('Power BI data/pokemon.csv', index = False, decimal=',')"
   ]
  },
  {
   "cell_type": "markdown",
   "metadata": {},
   "source": [
    "## Create abilities dataset"
   ]
  },
  {
   "cell_type": "code",
   "execution_count": 129,
   "metadata": {},
   "outputs": [],
   "source": [
    "df_abilities = df[['name', 'abilities']].explode('abilities')"
   ]
  },
  {
   "cell_type": "code",
   "execution_count": 130,
   "metadata": {},
   "outputs": [],
   "source": [
    "df_abilities['abilities'] = df_abilities.abilities.apply(ast.literal_eval)\n",
    "df_abilities = df_abilities.explode('abilities')"
   ]
  },
  {
   "cell_type": "code",
   "execution_count": 131,
   "metadata": {},
   "outputs": [],
   "source": [
    "df_abilities.to_csv('Power BI data/abilities.csv', index = False, decimal=',')"
   ]
  },
  {
   "cell_type": "markdown",
   "metadata": {},
   "source": [
    "## Create Stats dataset"
   ]
  },
  {
   "cell_type": "code",
   "execution_count": 150,
   "metadata": {},
   "outputs": [],
   "source": [
    "from sklearn import preprocessing"
   ]
  },
  {
   "cell_type": "code",
   "execution_count": 151,
   "metadata": {},
   "outputs": [],
   "source": [
    "def normalize_array(a):\n",
    "    return np.round((a - np.min(a))/np.ptp(a)*100,2)"
   ]
  },
  {
   "cell_type": "code",
   "execution_count": 152,
   "metadata": {},
   "outputs": [],
   "source": [
    "df_stats = df[['name', 'hp', 'attack','defense', 'speed', 'sp_attack', 'sp_defense', 'speed']].reset_index(drop=True)"
   ]
  },
  {
   "cell_type": "code",
   "execution_count": 153,
   "metadata": {},
   "outputs": [],
   "source": [
    "df_stats_norm = df_stats.copy()\n",
    "for stat in ['hp', 'attack','defense', 'speed', 'sp_attack', 'sp_defense', 'speed']:\n",
    "    df_stats_norm[stat] = normalize_array(df_stats_norm[stat])"
   ]
  },
  {
   "cell_type": "code",
   "execution_count": 154,
   "metadata": {},
   "outputs": [],
   "source": [
    "df_stats_norm = df_stats_norm.melt(id_vars='name', var_name=\"stat\", value_name=\"value_normalized\")"
   ]
  },
  {
   "cell_type": "code",
   "execution_count": 155,
   "metadata": {},
   "outputs": [],
   "source": [
    "df_stats = df_stats.melt(id_vars='name', var_name=\"stat\", value_name=\"value\")"
   ]
  },
  {
   "cell_type": "code",
   "execution_count": 156,
   "metadata": {},
   "outputs": [],
   "source": [
    "df_stats = df_stats.merge(df_stats_norm, on=['name', 'stat'],how='left')"
   ]
  },
  {
   "cell_type": "code",
   "execution_count": 157,
   "metadata": {},
   "outputs": [],
   "source": [
    "df_stats.to_csv('Power BI data/stats.csv', index = False, decimal=',')"
   ]
  }
 ],
 "metadata": {
  "kernelspec": {
   "display_name": "Python 3",
   "language": "python",
   "name": "python3"
  },
  "language_info": {
   "codemirror_mode": {
    "name": "ipython",
    "version": 3
   },
   "file_extension": ".py",
   "mimetype": "text/x-python",
   "name": "python",
   "nbconvert_exporter": "python",
   "pygments_lexer": "ipython3",
   "version": "3.8.5"
  },
  "toc": {
   "base_numbering": 1,
   "nav_menu": {},
   "number_sections": true,
   "sideBar": true,
   "skip_h1_title": false,
   "title_cell": "Table of Contents",
   "title_sidebar": "Contents",
   "toc_cell": false,
   "toc_position": {},
   "toc_section_display": true,
   "toc_window_display": false
  },
  "varInspector": {
   "cols": {
    "lenName": 16,
    "lenType": 16,
    "lenVar": 40
   },
   "kernels_config": {
    "python": {
     "delete_cmd_postfix": "",
     "delete_cmd_prefix": "del ",
     "library": "var_list.py",
     "varRefreshCmd": "print(var_dic_list())"
    },
    "r": {
     "delete_cmd_postfix": ") ",
     "delete_cmd_prefix": "rm(",
     "library": "var_list.r",
     "varRefreshCmd": "cat(var_dic_list()) "
    }
   },
   "types_to_exclude": [
    "module",
    "function",
    "builtin_function_or_method",
    "instance",
    "_Feature"
   ],
   "window_display": false
  }
 },
 "nbformat": 4,
 "nbformat_minor": 5
}
